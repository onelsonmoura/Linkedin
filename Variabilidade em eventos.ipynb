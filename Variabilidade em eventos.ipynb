{
 "cells": [
  {
   "cell_type": "code",
   "execution_count": null,
   "metadata": {},
   "outputs": [],
   "source": [
    "import yfinance as yf\n",
    "import pandas as pd\n",
    "import math\n",
    "import plotly.express as px"
   ]
  },
  {
   "cell_type": "code",
   "execution_count": null,
   "metadata": {},
   "outputs": [],
   "source": [
    "dados = yf.download('WEGE3.SA', start = '2023-01-01', end = '2023-12-31')"
   ]
  },
  {
   "cell_type": "code",
   "execution_count": null,
   "metadata": {},
   "outputs": [],
   "source": [
    "retorno = []\n",
    "    \n",
    "for i, cotacao in enumerate(dados['Close']):\n",
    "\n",
    "    if i == 0: rentabilidade_dia = 0\n",
    "    else: rentabilidade_dia = ((cotacao / dados['Close'][i - 1]) - 1)\n",
    "\n",
    "    retorno.append(rentabilidade_dia)\n",
    "\n",
    "dados['Retorno'] = retorno"
   ]
  },
  {
   "cell_type": "code",
   "execution_count": null,
   "metadata": {},
   "outputs": [],
   "source": [
    "dados['Retorno %'] = dados['Retorno']*100\n",
    "dados['Class'] = dados['Retorno'].map(lambda x: f'{math.floor(x*100):.1f}%')"
   ]
  },
  {
   "cell_type": "code",
   "execution_count": null,
   "metadata": {},
   "outputs": [],
   "source": [
    "dados['Frequency_bin'] = ''\n",
    "\n",
    "for i, classe in enumerate(dados['Class']):\n",
    "\n",
    "        frame = dados['Class'].iloc[:i + 1]\n",
    "        dados['Frequency_bin'][i] = frame[frame == classe].count()"
   ]
  },
  {
   "cell_type": "code",
   "execution_count": null,
   "metadata": {},
   "outputs": [],
   "source": [
    "dados[['Close', 'Retorno' , 'Retorno %', 'Class','Frequency_bin']]"
   ]
  },
  {
   "cell_type": "code",
   "execution_count": null,
   "metadata": {},
   "outputs": [],
   "source": [
    "fig = px.scatter(dados, x= dados['Retorno %'], y= dados['Frequency_bin'],\n",
    "                template='plotly_dark', labels = {'Vari. (%)': 'Retornos (%)', 'Frequency_bin': ''}\n",
    "            )\n",
    "\n",
    "fig.update_yaxes(showticklabels=False)\n",
    "fig.update_xaxes(range=[-6,6])"
   ]
  }
 ],
 "metadata": {
  "kernelspec": {
   "display_name": "base",
   "language": "python",
   "name": "python3"
  },
  "language_info": {
   "codemirror_mode": {
    "name": "ipython",
    "version": 3
   },
   "file_extension": ".py",
   "mimetype": "text/x-python",
   "name": "python",
   "nbconvert_exporter": "python",
   "pygments_lexer": "ipython3",
   "version": "3.11.5"
  }
 },
 "nbformat": 4,
 "nbformat_minor": 2
}
